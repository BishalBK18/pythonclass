{
 "cells": [
  {
   "cell_type": "code",
   "execution_count": null,
   "id": "464be1b0",
   "metadata": {},
   "outputs": [
    {
     "name": "stdout",
     "output_type": "stream",
     "text": [
      "7\n"
     ]
    }
   ],
   "source": [
    "\n",
    "def sum(a,b):\n",
    "    return a+b\n",
    "\n",
    "value=sum(2,5)\n",
    "print(value)\n",
    "\n",
    "\n",
    "\n",
    "\n"
   ]
  },
  {
   "cell_type": "code",
   "execution_count": null,
   "id": "fbd65232",
   "metadata": {},
   "outputs": [
    {
     "name": "stdout",
     "output_type": "stream",
     "text": [
      "Numpy version :2.3.0\n"
     ]
    }
   ],
   "source": [
    "import numpy as np\n",
    "print(f\"Numpy version :{np.__version__}\")"
   ]
  },
  {
   "cell_type": "code",
   "execution_count": 8,
   "id": "1747b4ee",
   "metadata": {},
   "outputs": [],
   "source": [
    "arr_1d=np.array([1,2,3,4,5])\n",
    "arr_1d.ndim\n",
    "list_2d=[[1,2,3],[4,5,6]]\n",
    "# print(list[1][0])\n",
    "arr_2d=np.array(list_2d)"
   ]
  },
  {
   "cell_type": "code",
   "execution_count": 10,
   "id": "726917e7",
   "metadata": {},
   "outputs": [
    {
     "name": "stdout",
     "output_type": "stream",
     "text": [
      "<class 'numpy.ndarray'>\n"
     ]
    }
   ],
   "source": [
    "arr_2d[1,2]\n",
    "print(type(arr_1d))"
   ]
  },
  {
   "cell_type": "code",
   "execution_count": 14,
   "id": "7ed8f091",
   "metadata": {},
   "outputs": [
    {
     "name": "stdout",
     "output_type": "stream",
     "text": [
      "(2, 3)\n",
      "6\n",
      "int64\n",
      "2\n"
     ]
    }
   ],
   "source": [
    "print(arr_2d.shape)\n",
    "print(arr_2d.size)\n",
    "print(arr_2d.dtype)\n",
    "print(arr_2d.ndim)"
   ]
  },
  {
   "cell_type": "code",
   "execution_count": 16,
   "id": "8a4b9f0f",
   "metadata": {},
   "outputs": [
    {
     "name": "stdout",
     "output_type": "stream",
     "text": [
      "[[ 0  1  2  3  4]\n",
      " [ 5  6  7  8  9]\n",
      " [10 11 12 13 14]\n",
      " [15 16 17 18 19]]\n"
     ]
    }
   ],
   "source": [
    "arr=np.arange(20).reshape(4,5)\n",
    "print(arr)"
   ]
  },
  {
   "cell_type": "code",
   "execution_count": null,
   "id": "cdf254fd",
   "metadata": {},
   "outputs": [],
   "source": []
  }
 ],
 "metadata": {
  "kernelspec": {
   "display_name": "env",
   "language": "python",
   "name": "python3"
  },
  "language_info": {
   "codemirror_mode": {
    "name": "ipython",
    "version": 3
   },
   "file_extension": ".py",
   "mimetype": "text/x-python",
   "name": "python",
   "nbconvert_exporter": "python",
   "pygments_lexer": "ipython3",
   "version": "3.13.1"
  }
 },
 "nbformat": 4,
 "nbformat_minor": 5
}
