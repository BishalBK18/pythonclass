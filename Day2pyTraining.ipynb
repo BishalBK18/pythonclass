{
 "cells": [
  {
   "cell_type": "code",
   "execution_count": null,
   "id": "c7f145ca",
   "metadata": {},
   "outputs": [
    {
     "name": "stdout",
     "output_type": "stream",
     "text": [
      "6\n",
      "['pineapple', 'banana', 'Cherry', 'Dragronfruit', 'berry', 'berry', 'berry']\n",
      "['pineapple', 'Dragronfruit', 'berry', 'berry', 'mango', 'berry']\n"
     ]
    }
   ],
   "source": [
    "fruits=['pineapple', 'banana', 'Cherry', 'Dragronfruit', 'berry', 'berry']\n",
    "#print(dir(friuts))\n",
    "print(len(friuts))\n",
    "friuts[0]=\"pineapple\";\n",
    "#friuts.append(\"berry\");\n",
    "print(friuts)\n",
    "friuts.pop(2);\n",
    "friuts.insert(5,\"mango\");\n",
    "friuts.remove(\"banana\")\n",
    "print(friuts);\n"
   ]
  },
  {
   "cell_type": "code",
   "execution_count": 11,
   "id": "c2cb8cbf",
   "metadata": {},
   "outputs": [
    {
     "name": "stdout",
     "output_type": "stream",
     "text": [
      "['Cherry', 'Dragonfruit', 'banana', 'berry', 'berry', 'pineapple']\n",
      "['pineapple', 'berry', 'berry', 'banana', 'Dragonfruit', 'Cherry']\n"
     ]
    }
   ],
   "source": [
    "fruits=['pineapple', 'banana', 'Cherry', 'Dragonfruit', 'berry', 'berry']\n",
    "fruits.sort()\n",
    "print(fruits)\n",
    "fruits.reverse()\n",
    "print(fruits)"
   ]
  },
  {
   "cell_type": "code",
   "execution_count": 10,
   "id": "133bc134",
   "metadata": {},
   "outputs": [
    {
     "name": "stdout",
     "output_type": "stream",
     "text": [
      "True\n",
      "True\n",
      "True\n"
     ]
    }
   ],
   "source": [
    "list1=[1,3,2,[4,5]]\n",
    "print(1 in list1)\n",
    "print([4,5] in list1)\n",
    "print(4 in list1[3])"
   ]
  },
  {
   "cell_type": "code",
   "execution_count": 17,
   "id": "5cd04e7b",
   "metadata": {},
   "outputs": [
    {
     "name": "stdout",
     "output_type": "stream",
     "text": [
      "[4, 5, [6, 7, 8], 9]\n",
      "[6, 7, 8]\n",
      "7\n"
     ]
    }
   ],
   "source": [
    "list2=[1,3,2,[4,5,[6,7,8],9]]\n",
    "print(list2[3])\n",
    "print(list2[3][2])\n",
    "print(list2[3][2][1])"
   ]
  },
  {
   "cell_type": "code",
   "execution_count": null,
   "id": "781b5589",
   "metadata": {},
   "outputs": [
    {
     "name": "stdout",
     "output_type": "stream",
     "text": [
      "[1, 4, 9, 16, 25]\n"
     ]
    }
   ],
   "source": [
    "#list comprehension\n",
    "squares=[x**2 for x in range(1,6)]\n",
    "print(squares)"
   ]
  },
  {
   "cell_type": "code",
   "execution_count": 20,
   "id": "39ae309d",
   "metadata": {},
   "outputs": [
    {
     "name": "stdout",
     "output_type": "stream",
     "text": [
      "['APPLE', 'BALL', 'CAT', 'DOG']\n"
     ]
    }
   ],
   "source": [
    "words=['apple','ball','cat','dog']\n",
    "uppercased=[word.upper() for word in words]\n",
    "print(uppercased)"
   ]
  },
  {
   "cell_type": "code",
   "execution_count": null,
   "id": "274828ab",
   "metadata": {},
   "outputs": [
    {
     "name": "stdout",
     "output_type": "stream",
     "text": [
      "{'Dragonfruit', 'berry', 'Cherry'}\n"
     ]
    }
   ],
   "source": [
    "fal={'pineapple', 'banana', 'Cherry', 'Dragonfruit', 'berry', 'berry'}\n",
    "fal.pop()\n",
    "#fal.remove('banana')\n",
    "fal.discard(\"pineapple\")\n",
    "#print(dir(fal))#used methods\n",
    "print(fal)"
   ]
  },
  {
   "cell_type": "code",
   "execution_count": null,
   "id": "0141b369",
   "metadata": {},
   "outputs": [
    {
     "name": "stdout",
     "output_type": "stream",
     "text": [
      "{'neymar', 'ronaldo'}\n"
     ]
    }
   ],
   "source": [
    "player={'messi','ronaldo','neymar'}\n",
    "player.remove('messi')\n",
    "player.discard('messi')#it discard only if item is present \n",
    "print(player)"
   ]
  },
  {
   "cell_type": "code",
   "execution_count": 41,
   "id": "c512e5c7",
   "metadata": {},
   "outputs": [
    {
     "name": "stdout",
     "output_type": "stream",
     "text": [
      "['__add__', '__class__', '__class_getitem__', '__contains__', '__delattr__', '__dir__', '__doc__', '__eq__', '__format__', '__ge__', '__getattribute__', '__getitem__', '__getnewargs__', '__getstate__', '__gt__', '__hash__', '__init__', '__init_subclass__', '__iter__', '__le__', '__len__', '__lt__', '__mul__', '__ne__', '__new__', '__reduce__', '__reduce_ex__', '__repr__', '__rmul__', '__setattr__', '__sizeof__', '__str__', '__subclasshook__', 'count', 'index']\n",
      "('pineapple', 'banana', 'Cherry', 'Dragonfruit', 'berry', 'berry', 'grapes')\n"
     ]
    }
   ],
   "source": [
    "#Tuples are ordered, unchangable allow duolicates faster\n",
    "fal=('pineapple', 'banana', 'Cherry', 'Dragonfruit', 'berry', 'berry')\n",
    "print(dir(fal));\n",
    "y=('grapes',)\n",
    "fal+=y\n",
    "print(fal)"
   ]
  },
  {
   "cell_type": "code",
   "execution_count": 47,
   "id": "54532e6b",
   "metadata": {},
   "outputs": [
    {
     "name": "stdout",
     "output_type": "stream",
     "text": [
      "pineapple ['banana', 'Cherry']\n"
     ]
    }
   ],
   "source": [
    "fal=('pineapple', 'banana', 'Cherry','mango')\n",
    "# (green,yellow,red)=fal\n",
    "# print(green)\n",
    "# print(yellow)\n",
    "# print(red)\n",
    "# print(fal)\n",
    "(red,*black,blue)=fal\n",
    "print(red,black)"
   ]
  },
  {
   "cell_type": "code",
   "execution_count": 48,
   "id": "c81f6eaf",
   "metadata": {},
   "outputs": [
    {
     "data": {
      "text/plain": [
       "['a', 'p', 'p', 'l', 'e']"
      ]
     },
     "execution_count": 48,
     "metadata": {},
     "output_type": "execute_result"
    }
   ],
   "source": [
    "t=(3,2,1,(4,5),[9,10],11)\n",
    "apple=(\"apple\")\n",
    "list(apple)"
   ]
  },
  {
   "cell_type": "code",
   "execution_count": 49,
   "id": "ec44ae84",
   "metadata": {},
   "outputs": [
    {
     "name": "stdout",
     "output_type": "stream",
     "text": [
      "[1, 'apple', 3.14, True] (2, 'banana', 4.5, False) {3, 3.7, 'cherry', 'c'}\n"
     ]
    }
   ],
   "source": [
    "list=[1,\"apple\",3.14,True]\n",
    "tuple=(2,\"banana\",4.5,False)\n",
    "set={3,\"cherry\",\"c\",3.7}\n",
    "print(list,tuple,set)"
   ]
  },
  {
   "cell_type": "code",
   "execution_count": 52,
   "id": "207563c9",
   "metadata": {},
   "outputs": [
    {
     "name": "stdout",
     "output_type": "stream",
     "text": [
      "IS PRESENT\n"
     ]
    }
   ],
   "source": [
    "list=[\"apple\",\"banana\",\"cheryy\"]\n",
    "for i in  range(len(list)):\n",
    "    if(list[i]==\"apple\"):\n",
    "        print(\"IS PRESENT\")"
   ]
  },
  {
   "cell_type": "code",
   "execution_count": 53,
   "id": "f3887729",
   "metadata": {},
   "outputs": [
    {
     "name": "stdout",
     "output_type": "stream",
     "text": [
      "apple\n",
      "banana\n",
      "cheryy\n"
     ]
    }
   ],
   "source": [
    "list=[\"apple\",\"banana\",\"cheryy\"]\n",
    "i=0;\n",
    "while i<len(list):\n",
    "    print(list[i])\n",
    "    i+=1"
   ]
  },
  {
   "cell_type": "code",
   "execution_count": 62,
   "id": "6fea13fd",
   "metadata": {},
   "outputs": [
    {
     "name": "stdout",
     "output_type": "stream",
     "text": [
      "{1: 'first', 'name': 'Bishal', 'course': 'BEIT'}\n",
      "{'name': 'alice', 'city': 'london', 'interest': 'cricket'}\n",
      "Name exists\n"
     ]
    }
   ],
   "source": [
    "#Dictionary -collection of keys -value pairs-unordered ,mutuable and indexed \n",
    "student={\n",
    "    1:\"first\",\n",
    "    \"name\":\"Bishal\",\n",
    "    \"course\":\"BEIT\"\n",
    "}\n",
    "print(student)\n",
    "#print(dir(student))\n",
    "st=dict(name=\"alice\",age=20,city=\"london\")\n",
    "st['interest']=\"cricket\"\n",
    "\n",
    "del st['age']\n",
    "print(st)\n",
    "if \"alice\" in st.values():\n",
    "    print(\"Name exists\")\n",
    "else:\n",
    "    print(\"Not Exists\")"
   ]
  },
  {
   "cell_type": "code",
   "execution_count": 67,
   "id": "0d3790af",
   "metadata": {},
   "outputs": [
    {
     "name": "stdout",
     "output_type": "stream",
     "text": [
      "alice\n",
      "20\n",
      "london\n",
      "('name', 'alice')\n",
      "('age', 20)\n",
      "('city', 'london')\n",
      "1\n",
      "name\n",
      "course\n"
     ]
    }
   ],
   "source": [
    "st=dict(name=\"alice\",age=20,city=\"london\")\n",
    "for value in st.values():\n",
    "    print(value)\n",
    "for value in st.items():\n",
    "    print(value)\n",
    "for value in student:\n",
    "    print(value)"
   ]
  },
  {
   "cell_type": "code",
   "execution_count": 68,
   "id": "83669c3e",
   "metadata": {},
   "outputs": [
    {
     "name": "stdout",
     "output_type": "stream",
     "text": [
      "{1: 1, 2: 4, 3: 9, 4: 16, 5: 25}\n"
     ]
    }
   ],
   "source": [
    "square={x:x**2 for x in range(1,6)}\n",
    "print(square)"
   ]
  },
  {
   "cell_type": "code",
   "execution_count": null,
   "id": "f01c2c93",
   "metadata": {},
   "outputs": [],
   "source": []
  }
 ],
 "metadata": {
  "kernelspec": {
   "display_name": "Python 3",
   "language": "python",
   "name": "python3"
  },
  "language_info": {
   "codemirror_mode": {
    "name": "ipython",
    "version": 3
   },
   "file_extension": ".py",
   "mimetype": "text/x-python",
   "name": "python",
   "nbconvert_exporter": "python",
   "pygments_lexer": "ipython3",
   "version": "3.13.1"
  }
 },
 "nbformat": 4,
 "nbformat_minor": 5
}
